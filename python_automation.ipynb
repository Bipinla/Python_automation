{
 "cells": [
  {
   "cell_type": "code",
   "execution_count": null,
   "metadata": {},
   "outputs": [],
   "source": [
    "import pyautogui as bp\n",
    "import time\n",
    "\n",
    "# Give yourself a few seconds to switch to the browser\n",
    "time.sleep(5)\n",
    "\n",
    "# Move to the address bar (adjust coordinates as needed)\n",
    "bp.moveTo(300, 60)\n",
    "bp.click()\n",
    "bp.write('Bipin1', interval=0.1)\n",
    "bp.press('enter')\n",
    "bp.write('123', interval=0.1)\n",
    "bp.press('enter')\n",
    "bp.press('enter')"
   ]
  },
  {
   "cell_type": "code",
   "execution_count": 2,
   "metadata": {},
   "outputs": [
    {
     "name": "stdout",
     "output_type": "stream",
     "text": [
      "Mouse is out of the screen bounds.\n"
     ]
    }
   ],
   "source": [
    "import pyautogui\n",
    "import time\n",
    "\n",
    "# Give some delay to position the mouse\n",
    "time.sleep(2)\n",
    "\n",
    "# Get the current mouse position\n",
    "x, y = pyautogui.position()\n",
    "\n",
    "# Capture the screen and get the color of the pixel at the mouse position\n",
    "screenshot = pyautogui.screenshot()\n",
    "\n",
    "# Try to get the color at the mouse position\n",
    "try:\n",
    "    pixel_color = screenshot.getpixel((x, y))  # Get the color of the pixel at (x, y)\n",
    "    print(f\"Mouse Position: ({x}, {y})\")\n",
    "    print(f\"Color at Mouse Position: {pixel_color}\")\n",
    "except IndexError:\n",
    "    print(\"Mouse is out of the screen bounds.\")\n"
   ]
  },
  {
   "cell_type": "code",
   "execution_count": null,
   "metadata": {},
   "outputs": [],
   "source": [
    "import pyautogui\n",
    "import time\n",
    "\n",
    "\n",
    "pyautogui.FAILSAFE = True\n",
    "\n",
    "# Function to drag the mouse down\n",
    "def drag_mouse_down():\n",
    "    # Get current mouse position\n",
    "    start_x, start_y = pyautogui.position()\n",
    "\n",
    "    # Move mouse down and drag\n",
    "    pyautogui.mouseDown(start_x, start_y)  # Press the mouse button down\n",
    "    pyautogui.moveTo(start_x, start_y + 100, duration=0.2)  # Move the mouse down by 100 pixels\n",
    "    pyautogui.mouseUp()  # Release the mouse button\n",
    "\n",
    "# Run the drag every second, checking for Esc key press\n",
    "try:\n",
    "    for i in range(50):\n",
    "        pyautogui.scroll(-100)\n",
    "        #drag_mouse_down()\n",
    "        #time.sleep(1)  # Wait for 1 second before next drag\n",
    "except pyautogui.FailSafeException:\n",
    "    print(\"Program stopped by user moving the mouse to the top-left corner!\")"
   ]
  }
 ],
 "metadata": {
  "kernelspec": {
   "display_name": "Python 3",
   "language": "python",
   "name": "python3"
  },
  "language_info": {
   "codemirror_mode": {
    "name": "ipython",
    "version": 3
   },
   "file_extension": ".py",
   "mimetype": "text/x-python",
   "name": "python",
   "nbconvert_exporter": "python",
   "pygments_lexer": "ipython3",
   "version": "3.13.0"
  }
 },
 "nbformat": 4,
 "nbformat_minor": 2
}
