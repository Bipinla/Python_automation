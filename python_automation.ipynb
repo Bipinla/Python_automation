{
 "cells": [
  {
   "cell_type": "code",
   "execution_count": null,
   "metadata": {},
   "outputs": [
    {
     "ename": "KeyError",
     "evalue": "'DISPLAY'",
     "output_type": "error",
     "traceback": [
      "\u001b[0;31m---------------------------------------------------------------------------\u001b[0m",
      "\u001b[0;31mKeyError\u001b[0m                                  Traceback (most recent call last)",
      "Cell \u001b[0;32mIn[1], line 1\u001b[0m\n\u001b[0;32m----> 1\u001b[0m \u001b[38;5;28;01mimport\u001b[39;00m \u001b[38;5;21;01mpyautogui\u001b[39;00m \u001b[38;5;28;01mas\u001b[39;00m \u001b[38;5;21;01mbp\u001b[39;00m\n\u001b[1;32m      2\u001b[0m \u001b[38;5;28;01mimport\u001b[39;00m \u001b[38;5;21;01mtime\u001b[39;00m\n\u001b[1;32m      4\u001b[0m \u001b[38;5;66;03m# Give yourself a few seconds to switch to the browser\u001b[39;00m\n",
      "File \u001b[0;32m/usr/local/python/3.12.1/lib/python3.12/site-packages/pyautogui/__init__.py:246\u001b[0m\n\u001b[1;32m    242\u001b[0m     screenshot \u001b[38;5;241m=\u001b[39m _couldNotImportPyScreeze\n\u001b[1;32m    245\u001b[0m \u001b[38;5;28;01mtry\u001b[39;00m:\n\u001b[0;32m--> 246\u001b[0m     \u001b[38;5;28;01mimport\u001b[39;00m \u001b[38;5;21;01mmouseinfo\u001b[39;00m\n\u001b[1;32m    248\u001b[0m     \u001b[38;5;28;01mdef\u001b[39;00m \u001b[38;5;21mmouseInfo\u001b[39m():\n\u001b[1;32m    249\u001b[0m \u001b[38;5;250m        \u001b[39m\u001b[38;5;124;03m\"\"\"\u001b[39;00m\n\u001b[1;32m    250\u001b[0m \u001b[38;5;124;03m        Launches the MouseInfo app. This application provides mouse coordinate information which can be useful when\u001b[39;00m\n\u001b[1;32m    251\u001b[0m \u001b[38;5;124;03m        planning GUI automation tasks. This function blocks until the application is closed.\u001b[39;00m\n\u001b[1;32m    252\u001b[0m \u001b[38;5;124;03m        \"\"\"\u001b[39;00m\n",
      "File \u001b[0;32m/usr/local/python/3.12.1/lib/python3.12/site-packages/mouseinfo/__init__.py:223\u001b[0m\n\u001b[1;32m    220\u001b[0m     \u001b[38;5;28;01melse\u001b[39;00m:\n\u001b[1;32m    221\u001b[0m         \u001b[38;5;28;01mraise\u001b[39;00m\n\u001b[0;32m--> 223\u001b[0m _display \u001b[38;5;241m=\u001b[39m Display(\u001b[43mos\u001b[49m\u001b[38;5;241;43m.\u001b[39;49m\u001b[43menviron\u001b[49m\u001b[43m[\u001b[49m\u001b[38;5;124;43m'\u001b[39;49m\u001b[38;5;124;43mDISPLAY\u001b[39;49m\u001b[38;5;124;43m'\u001b[39;49m\u001b[43m]\u001b[49m)\n\u001b[1;32m    225\u001b[0m \u001b[38;5;28;01mdef\u001b[39;00m \u001b[38;5;21m_linuxPosition\u001b[39m():\n\u001b[1;32m    226\u001b[0m     coord \u001b[38;5;241m=\u001b[39m _display\u001b[38;5;241m.\u001b[39mscreen()\u001b[38;5;241m.\u001b[39mroot\u001b[38;5;241m.\u001b[39mquery_pointer()\u001b[38;5;241m.\u001b[39m_data\n",
      "File \u001b[0;32m<frozen os>:685\u001b[0m, in \u001b[0;36m__getitem__\u001b[0;34m(self, key)\u001b[0m\n",
      "\u001b[0;31mKeyError\u001b[0m: 'DISPLAY'"
     ]
    },
    {
     "name": "stderr",
     "output_type": "stream",
     "text": [
      "Bad pipe message: %s [b'0.9,image/avif,image/webp,image/apng,*/*;q=0.8,application/signed-exchange;v=b3;q=0.7\\r\\nHost: localhost:39113\\r\\nUs', b'-Agent: Mozilla/5.0 (Windows NT 10.0; Win64; x64) AppleWebKit/537.36 (KHTML, like Gecko) Chrome/131.']\n",
      "Bad pipe message: %s [b'0.0 Safari/537.36 Edg/131.0.0.0\\r\\nAccept-Encodin']\n",
      "Bad pipe message: %s [b' gzip, deflate, br, zstd\\r\\nAccept-Language: ja,en;q=0.9,en-GB;q=0.8,en-US;q=0.7\\r\\nCache-Control: max-age']\n",
      "Bad pipe message: %s [b'\\r\\nReferer: https://probable-broccoli-r4459g6rq9x4cxg4j.githu']\n",
      "Bad pipe message: %s [b'dev/\\r\\nX-Request-ID: ad4aa9c638f44dcfb79854e1bcb27813\\r\\nX-Real-IP: 10.240.0.199\\r\\nX-Forwarded-Port: ']\n",
      "Bad pipe message: %s [b'3\\r\\nX-Forwarded-Scheme: https\\r\\nX-Original-URI: /\\r\\nX-']\n",
      "Bad pipe message: %s [b'heme: https\\r\\nSec-Fetch-Site: same-site\\r\\nSec-Fetch-Mode: navigate\\r\\nSec-Fetch-Dest: ', b'cument\\r\\nsec-ch-ua: \"Microsoft Edge\";v=\"131\", \"Chromium\";v=\"131\", \"Not_A Brand\";v=\"24\"\\r\\nsec-ch-ua-mo', b'le: ?0\\r\\nsec-ch-ua-platform: \"Windows\"\\r\\nX-Original-Proto: https\\r\\nX-Forwarded-Proto: https\\r\\nX-Forwa', b'ed-Host: probable-broccoli-r4459g6rq9x4cxg4j-39113.app.github.dev\\r\\nX-Forwarded-For: 10.240.0.199\\r\\nProxy-Connectio']\n",
      "Bad pipe message: %s [b'0.9,image/avif,image/webp,image/apng,*/*;q=0.8,application/signed-exchange;v=b3;q=0.7\\r\\nHost: localhost:39113\\r\\nUs', b'-Agent: Mozilla/5.0 (Windows NT 10.0; Win64; x64) AppleWebKit/537.36 (KHTML, like Gecko) Chrome/131.']\n",
      "Bad pipe message: %s [b'0.0 Safari/537.36 Edg/131.0.0.0\\r\\nAccept-Encodin']\n",
      "Bad pipe message: %s [b' gzip, deflate, br, zstd\\r\\nAccept-Language: ja,en;q=0.9,en-GB;q=0.8,en-US;q=0.7\\r\\nCache-Control: max-age']\n",
      "Bad pipe message: %s [b'\\r\\nReferer: https://probable-broccoli-r4459g6rq9x4cxg4j.githu']\n",
      "Bad pipe message: %s [b'dev/\\r\\nX-Request-ID: ad34baec97c15f84f2f8551e95dfed22\\r\\nX-Real-IP: 10.240.0.199\\r\\nX-Forwarded-Port: ']\n",
      "Bad pipe message: %s [b'3\\r\\nX-Forwarded-Scheme: https\\r\\nX-Original-URI: /\\r\\nX-']\n",
      "Bad pipe message: %s [b'0.9,image/avif,image/webp,image/apng,*/*;q=0.8,application/signed-exchange;v=b3;q=0.7\\r\\nHost: localhost:39113\\r\\nUs', b'-Agent: Mozilla/5.0 (Windows NT 10.0; Win64; x64) AppleWebKit/537.36 (KHTML, like Gecko) Chrome/131.']\n",
      "Bad pipe message: %s [b'0.0 Safari/537.36 Edg/131.0.0.0\\r\\nAccept-Encodin']\n",
      "Bad pipe message: %s [b' gzip, deflate, br, zstd\\r\\nAccept-Language: ja,en;q=0.9,en-GB;q=0.8,en-US;q=0.7\\r\\nReferer: https://proba']\n",
      "Bad pipe message: %s [b'e-broccoli-r4459g6rq9x4cxg4j.github.dev/\\r\\nX-Request-ID: 7275e80cf2fe9ad9aee7cfa4ec334b79\\r\\nX-Real-']\n",
      "Bad pipe message: %s [b': 10.240.0.199\\r\\nX-Forwarded-Port: 443\\r\\nX-Forwarded-Scheme: https\\r\\nX-Orig']\n",
      "Bad pipe message: %s [b'al-URI: /\\r\\nX-Scheme: https\\r\\nsec-ch-ua: \"Microsoft Edge\";v=\"131\", \"Chromium\";v=\"131\", \"Not_A Brand\";v=\"24']\n",
      "Bad pipe message: %s [b'\\nsec-ch-ua-mobile: ?0\\r\\nsec-ch-ua-', b'atform: \"Windows\"\\r\\nSec-Fetch-Site: same-site\\r\\nSec-Fetch-Mode: navigate\\r\\nSec-Fetch-User: ?1\\r\\nSec-Fetch-Dest: doc']\n"
     ]
    }
   ],
   "source": [
    "import pyautogui as bp\n",
    "import time\n",
    "\n",
    "# Give yourself a few seconds to switch to the browser\n",
    "time.sleep(5)\n",
    "\n",
    "# Move to the address bar (adjust coordinates as needed)\n",
    "bp.moveTo(300, 60)\n",
    "bp.click()\n",
    "bp.write('Bipin1', interval=0.1)\n",
    "bp.press('enter')\n",
    "bp.write('123', interval=0.1)\n",
    "bp.press('enter')\n",
    "bp.press('enter')"
   ]
  },
  {
   "cell_type": "code",
   "execution_count": 3,
   "metadata": {},
   "outputs": [
    {
     "ename": "KeyError",
     "evalue": "'DISPLAY'",
     "output_type": "error",
     "traceback": [
      "\u001b[0;31m---------------------------------------------------------------------------\u001b[0m",
      "\u001b[0;31mKeyError\u001b[0m                                  Traceback (most recent call last)",
      "Cell \u001b[0;32mIn[3], line 1\u001b[0m\n\u001b[0;32m----> 1\u001b[0m \u001b[38;5;28;01mimport\u001b[39;00m \u001b[38;5;21;01mpyautogui\u001b[39;00m\n\u001b[1;32m      2\u001b[0m \u001b[38;5;28;01mimport\u001b[39;00m \u001b[38;5;21;01mtime\u001b[39;00m\n\u001b[1;32m      4\u001b[0m \u001b[38;5;66;03m# Give some delay to position the mouse\u001b[39;00m\n",
      "File \u001b[0;32m/usr/local/python/3.12.1/lib/python3.12/site-packages/pyautogui/__init__.py:246\u001b[0m\n\u001b[1;32m    242\u001b[0m     screenshot \u001b[38;5;241m=\u001b[39m _couldNotImportPyScreeze\n\u001b[1;32m    245\u001b[0m \u001b[38;5;28;01mtry\u001b[39;00m:\n\u001b[0;32m--> 246\u001b[0m     \u001b[38;5;28;01mimport\u001b[39;00m \u001b[38;5;21;01mmouseinfo\u001b[39;00m\n\u001b[1;32m    248\u001b[0m     \u001b[38;5;28;01mdef\u001b[39;00m \u001b[38;5;21mmouseInfo\u001b[39m():\n\u001b[1;32m    249\u001b[0m \u001b[38;5;250m        \u001b[39m\u001b[38;5;124;03m\"\"\"\u001b[39;00m\n\u001b[1;32m    250\u001b[0m \u001b[38;5;124;03m        Launches the MouseInfo app. This application provides mouse coordinate information which can be useful when\u001b[39;00m\n\u001b[1;32m    251\u001b[0m \u001b[38;5;124;03m        planning GUI automation tasks. This function blocks until the application is closed.\u001b[39;00m\n\u001b[1;32m    252\u001b[0m \u001b[38;5;124;03m        \"\"\"\u001b[39;00m\n",
      "File \u001b[0;32m/usr/local/python/3.12.1/lib/python3.12/site-packages/mouseinfo/__init__.py:223\u001b[0m\n\u001b[1;32m    220\u001b[0m     \u001b[38;5;28;01melse\u001b[39;00m:\n\u001b[1;32m    221\u001b[0m         \u001b[38;5;28;01mraise\u001b[39;00m\n\u001b[0;32m--> 223\u001b[0m _display \u001b[38;5;241m=\u001b[39m Display(\u001b[43mos\u001b[49m\u001b[38;5;241;43m.\u001b[39;49m\u001b[43menviron\u001b[49m\u001b[43m[\u001b[49m\u001b[38;5;124;43m'\u001b[39;49m\u001b[38;5;124;43mDISPLAY\u001b[39;49m\u001b[38;5;124;43m'\u001b[39;49m\u001b[43m]\u001b[49m)\n\u001b[1;32m    225\u001b[0m \u001b[38;5;28;01mdef\u001b[39;00m \u001b[38;5;21m_linuxPosition\u001b[39m():\n\u001b[1;32m    226\u001b[0m     coord \u001b[38;5;241m=\u001b[39m _display\u001b[38;5;241m.\u001b[39mscreen()\u001b[38;5;241m.\u001b[39mroot\u001b[38;5;241m.\u001b[39mquery_pointer()\u001b[38;5;241m.\u001b[39m_data\n",
      "File \u001b[0;32m<frozen os>:685\u001b[0m, in \u001b[0;36m__getitem__\u001b[0;34m(self, key)\u001b[0m\n",
      "\u001b[0;31mKeyError\u001b[0m: 'DISPLAY'"
     ]
    }
   ],
   "source": [
    "import pyautogui\n",
    "import time\n",
    "\n",
    "# Give some delay to position the mouse\n",
    "time.sleep(2)\n",
    "\n",
    "# Get the current mouse position\n",
    "x, y = pyautogui.position()\n",
    "\n",
    "# Capture the screen and get the color of the pixel at the mouse position\n",
    "screenshot = pyautogui.screenshot()\n",
    "\n",
    "# Try to get the color at the mouse position\n",
    "try:\n",
    "    x =10\n",
    "    y = 10\n",
    "    pixel_color = screenshot.getpixel((x, y))  # Get the color of the pixel at (x, y)\n",
    "    print(f\"Mouse Position: ({x}, {y})\")\n",
    "    print(f\"Color at Mouse Position: {pixel_color}\")\n",
    "except IndexError:\n",
    "    print(\"Mouse is out of the screen bounds.\")\n"
   ]
  },
  {
   "cell_type": "code",
   "execution_count": null,
   "metadata": {},
   "outputs": [],
   "source": [
    "import pyautogui\n",
    "import time\n",
    "\n",
    "\n",
    "pyautogui.FAILSAFE = True\n",
    "\n",
    "# Function to drag the mouse down\n",
    "def drag_mouse_down():\n",
    "    # Get current mouse position\n",
    "    start_x, start_y = pyautogui.position()\n",
    "\n",
    "    # Move mouse down and drag\n",
    "    pyautogui.mouseDown(start_x, start_y)  # Press the mouse button down\n",
    "    pyautogui.moveTo(start_x, start_y + 100, duration=0.2)  # Move the mouse down by 100 pixels\n",
    "    pyautogui.mouseUp()  # Release the mouse button\n",
    "\n",
    "# Run the drag every second, checking for Esc key press\n",
    "try:\n",
    "    for i in range(50):\n",
    "        pyautogui.scroll(-100)\n",
    "        #drag_mouse_down()\n",
    "        #time.sleep(1)  # Wait for 1 second before next drag\n",
    "except pyautogui.FailSafeException:\n",
    "    print(\"Program stopped by user moving the mouse to the top-left corner!\")"
   ]
  }
 ],
 "metadata": {
  "kernelspec": {
   "display_name": "Python 3",
   "language": "python",
   "name": "python3"
  },
  "language_info": {
   "codemirror_mode": {
    "name": "ipython",
    "version": 3
   },
   "file_extension": ".py",
   "mimetype": "text/x-python",
   "name": "python",
   "nbconvert_exporter": "python",
   "pygments_lexer": "ipython3",
   "version": "3.12.1"
  }
 },
 "nbformat": 4,
 "nbformat_minor": 2
}
